{
 "cells": [
  {
   "cell_type": "markdown",
   "metadata": {},
   "source": [
    "# Sequence Analysis with Python\n",
    "\n",
    "Contact: Veli Mäkinen veli.makinen@helsinki.fi"
   ]
  },
  {
   "cell_type": "markdown",
   "metadata": {},
   "source": [
    "The following assignments introduce applications of hashing with ```dict()``` primitive of Python. While doing so, a rudimentary introduction to biological sequences is given. \n",
    "This framework is then enhanced with probabilities, leading to routines to generate random sequences under some constraints, including a general concept of *Markov-chains*. All these components illustrate the usage of ```dict()```, but at the same time introduce some other computational routines to efficiently deal with probabilities.   \n",
    "The function ```collections.defaultdict``` can be useful.\n",
    "\n",
    "Below are some \"suggested\" imports. Feel free to use and modify these, or not. Generally it's good practice to keep most or all imports in one place. Typically very close to the start of notebooks."
   ]
  },
  {
   "cell_type": "code",
   "execution_count": 15,
   "metadata": {
    "ExecuteTime": {
     "end_time": "2019-07-08T22:04:22.831112Z",
     "start_time": "2019-07-08T22:04:22.688031Z"
    }
   },
   "outputs": [],
   "source": [
    "from collections import defaultdict\n",
    "from itertools import product\n",
    "\n",
    "import numpy as np\n",
    "from numpy.random import choice\n",
    "\n",
    "import re\n",
    "import pandas as pd\n",
    "\n",
    "import itertools\n",
    "\n",
    "'''\n",
    "This function reads the html page used in exercises. It is used in multiple exercises.\n",
    "Step to step what the function does.\n",
    "\n",
    "1. Read html-page from saved local file. \n",
    "\n",
    "2. Then we filter page to contain all the RNA data.\n",
    "\n",
    "3. Then we use regular expression to find all the data per RNA-triplet, aminoacid...\n",
    "\n",
    "4. We store the data into pandas dataframe\n",
    "\n",
    "5. Modify number column so we can turn that into integer\n",
    "\n",
    "6. Convert column types to more appropriate\n",
    "'''\n",
    "def get_codong_usage_table_as_data_frame():\n",
    "    #1. We read the html page\n",
    "    try:\n",
    "        with open('codon_usage_table.html') as f:\n",
    "            page = f.read()\n",
    "    except FileNotFoundError:\n",
    "        with open('src/codon_usage_table.html') as f:\n",
    "            page = f.read()\n",
    "\n",
    "    #2. slice the information off the page (it is between <pre> and </pre> html-attributes)\n",
    "    start_index = page.find('<pre>')+5\n",
    "    end_index = page.find('</pre>')\n",
    "    data = page[start_index:end_index].strip()\n",
    "\n",
    "    #3. get an array containing information per RNA-triplet. Example after the next line data[0] = UUU F 0.46 17.6 (714298)\n",
    "    data = re.findall(r'[a-zA-Z]{3}\\s[a-zA-Z|*]{1}\\s[0-9]*.[0-9]*\\s*[0-9]*.[0-9]*\\s*\\(\\s?[0-9]*\\)', data)\n",
    "\n",
    "    # we split the data into 2 dimensional array\n",
    "    # Because some numbers has space inside the parentheses, we remove this space before splitting\n",
    "    data = [d.replace('( ', '(').split() for d in data]\n",
    "\n",
    "    #4. put everythin into pandas dataframe\n",
    "    df = pd.DataFrame(data, columns=['triplet', 'amino acid',  'fraction', 'frequency', 'number'])\n",
    "\n",
    "    #5 Remove parentheses in the number column\n",
    "    df['number'] = df['number'].apply(lambda s: s[1:-1])\n",
    "\n",
    "    #6 convert dtypes of fraction and frequency to float and number to int\n",
    "    df = df.astype({'fraction':float, 'frequency':float, 'number':int})\n",
    "\n",
    "    return df"
   ]
  },
  {
   "cell_type": "markdown",
   "metadata": {},
   "source": [
    "The automated TMC tests do not test cell outputs. These are intended to be evaluated in the peer reviews. So it is still be a good idea to make the outputs as clear and informative as possible.\n",
    "\n",
    "To keep TMC tests running as well as possible it is recommended to keep global variable assignments in the notebook to a minimum to avoid potential name clashes and confusion. Additionally you should keep all actual code exection in main guards to keep the test running smoothly. If you run [check_sequence.py](https://raw.githubusercontent.com/saskeli/data-analysis-with-python-summer-2019/master/check_outputs.py) in the `part07-e01_sequence_analysis` folder, the script should finish very quickly and optimally produce no output.\n",
    "\n",
    "If you download data from the internet during execution (codon usage table), the parts where downloading is done should not work if you decide to submit to the tmc server. Local tests should work fine."
   ]
  },
  {
   "cell_type": "markdown",
   "metadata": {},
   "source": [
    "## DNA and RNA\n",
    "\n",
    "A DNA molecule consist, in principle, of a chain of smaller molecules. These smaller molecules have some common basic components (bases) that repeat. For our purposes it is sufficient to know that these bases are nucleotides adenine, cytosine, guanine, and thymine with abbreviations ```A```, ```C```, ```G```, and ```T```. Given a *DNA sequence* e.g. ```ACGATGAGGCTCAT```, one can reverse engineer (with negligible loss of information) the corresponding DNA molecule.\n",
    "\n",
    "Parts of a DNA molecule can *transcribe* into an RNA molecule. In this process, thymine gets replaced by uracil (```U```). \n",
    "\n",
    "\n",
    "1. Write a function ```dna_to_rna``` to convert a given DNA sequence $s$ into an RNA sequence. For the sake of exercise, use ```dict()``` to store the symbol to symbol encoding rules. Create a program to test your function."
   ]
  },
  {
   "cell_type": "code",
   "execution_count": 16,
   "metadata": {
    "ExecuteTime": {
     "end_time": "2019-07-08T22:04:22.841952Z",
     "start_time": "2019-07-08T22:04:22.834721Z"
    },
    "tags": []
   },
   "outputs": [
    {
     "output_type": "stream",
     "name": "stdout",
     "text": "AACGUGAUUUC\n"
    }
   ],
   "source": [
    "dna_to_rna_dic = dict(A='A', C='C', G='G', T='U')\n",
    "\n",
    "def dna_to_rna(s):\n",
    "    return ''.join(dna_to_rna_dic[base] for base in s)\n",
    "    \n",
    "if __name__ == '__main__':\n",
    "    print(dna_to_rna(\"AACGTGATTTC\"))"
   ]
  },
  {
   "cell_type": "markdown",
   "metadata": {},
   "source": [
    "### Idea of solution\n",
    "\n",
    "Idea is that first we go troug a DNA-string to get each DNA-base. Then we get RNA-base for that DNA-base from dna_to_rna_dic dictionary. We join all of the RNA-bases and return the final RNA string."
   ]
  },
  {
   "cell_type": "markdown",
   "metadata": {},
   "source": [
    "### Discussion\n",
    "\n",
    "Solution is quite simple. Most of the work was already done by the creator of this notebook. \n",
    "\n",
    "The use dict()-funtion to store symbol to symbol rules was given in the exercise so I included it in my solution.\n"
   ]
  },
  {
   "cell_type": "markdown",
   "metadata": {},
   "source": [
    "## Proteins\n",
    "\n",
    "Like DNA and RNA, protein molecule can be interpreted as a chain of smaller molecules, where the bases are now amino acids. RNA molecule may *translate* into a protein molecule, but instead of base by base, three bases of RNA correspond to one base of protein. That is, RNA sequence is read triplet (called codon) at a time. \n",
    "\n",
    "2. Consider the codon to amino acid conversion table in http://htmlpreview.github.io/?https://github.com/csmastersUH/data_analysis_with_python_2020/blob/master/Codon%20usage%20table.html. Write a function ```get_dict``` to read the table into a ```dict()```, such that for each RNA sequence of length 3, say $\\texttt{AGU}$, the hash table stores the conversion rule to the corresponding amino acid. You may store the html page to your local src directory,\n",
    "and parse that file."
   ]
  },
  {
   "cell_type": "code",
   "execution_count": 17,
   "metadata": {
    "ExecuteTime": {
     "end_time": "2019-07-08T22:04:22.867855Z",
     "start_time": "2019-07-08T22:04:22.845885Z"
    },
    "tags": []
   },
   "outputs": [
    {
     "output_type": "stream",
     "name": "stdout",
     "text": "64\n"
    }
   ],
   "source": [
    "\n",
    "def get_dict():\n",
    "    dic = dict()\n",
    "\n",
    "    # get all the data\n",
    "    df = get_codong_usage_table_as_data_frame()\n",
    "    \n",
    "    # create dictionay from iterable containing tuples of (triplet, amino acid)\n",
    "    return dict(zip(df['triplet'],df['amino acid']))\n",
    "    \n",
    "if __name__ == '__main__':\n",
    "    codon_to_aa = get_dict()\n",
    "    print(len(codon_to_aa))\n"
   ]
  },
  {
   "cell_type": "markdown",
   "metadata": {},
   "source": [
    "### Idea of solution\n",
    "\n",
    "We read the data from the html page using the helper function. Then we create dictionay. We do this by creating (RNA-triplet, amino acid) tuples using pythons zip() function and making the series of tuples into dictionay. "
   ]
  },
  {
   "cell_type": "markdown",
   "metadata": {},
   "source": [
    "### Discussion\n",
    "The program works fine. It returns dictionary that seems okay and contains all 64 RNA-amino acid combinations found in the html page. \n",
    "\n",
    "There is a helper function that reads the html page and returns a dataframe containing all the necessary data from the page. We will use this function also in later exercise. \n",
    "\n",
    "Step to step what the helper function does.\n",
    "\n",
    "1. Read html-page from saved local file. \n",
    "\n",
    "2. Then we filter page to contain all the RNA data.\n",
    "\n",
    "3. Then we use regular expression to find all the data per RNA-triplet, aminoacid...\n",
    "\n",
    "4. We store the data into pandas dataframe"
   ]
  },
  {
   "cell_type": "markdown",
   "metadata": {},
   "source": [
    "3. Use the same conversion table as above, but now write function `get_dict_list` to read the table into a `dict()`, such that for each amino acid the hash table stores the list of codons encoding it.    "
   ]
  },
  {
   "cell_type": "code",
   "execution_count": 18,
   "metadata": {
    "ExecuteTime": {
     "end_time": "2019-07-08T22:04:22.882386Z",
     "start_time": "2019-07-08T22:04:22.872449Z"
    },
    "tags": []
   },
   "outputs": [
    {
     "output_type": "stream",
     "name": "stdout",
     "text": "64\n"
    }
   ],
   "source": [
    "\n",
    "def get_dict_list():\n",
    "    df = get_codong_usage_table_as_data_frame()\n",
    "\n",
    "    dic = dict()\n",
    "\n",
    "    # itereate tuples (amino acid, triplet)\n",
    "    for t in zip(df['amino acid'], df['triplet']):\n",
    "        amino_acid, triplet = t\n",
    "\n",
    "        # if the amino acid is not in the dictionary, we add it\n",
    "        if(amino_acid not in dic.keys()):\n",
    "            dic[amino_acid] = [triplet]\n",
    "        else:\n",
    "            # else we add triplet to existing array\n",
    "            dic[amino_acid] = dic[amino_acid]+[triplet]\n",
    "\n",
    "    return dic\n",
    "    \n",
    "if __name__ == '__main__':\n",
    "    aa_to_codons = get_dict_list()\n",
    "    sum_of_values = 0\n",
    "    for i in aa_to_codons.values():\n",
    "        sum_of_values=sum_of_values+len(i)\n",
    "    print(sum_of_values)"
   ]
  },
  {
   "cell_type": "markdown",
   "metadata": {},
   "source": [
    "### Idea of solution\n",
    "\n",
    "The idea is to save all amino acids as a key into dictionary, where values are an array of triplets. We can't use the exact same approach as in the exercise 2, because now there is different values for the same key. This is why we check is the key already in use and if it is then we add the RNA-triplet to existing array. This way we don't lose data with same keys."
   ]
  },
  {
   "cell_type": "markdown",
   "metadata": {},
   "source": [
    "### Discussion\n",
    "\n",
    "The bacis idea is the same as in exercise 2. Note that we store only unique codons in a list. This is why the extra step to ensure that all the triplets are saved.\n",
    "Solution takes care of the problem where we overwrite acid information with the latest triplet. As seen, there is 64 values in the dictionary.\n",
    "\n",
    "Another way to solve this is to use function in exercise 1 and switch places of keys and values remembering that some aminoacids can be made with differend triplets.\n",
    "\n",
    "Following pseudocode for alternate solution:\n",
    "\n",
    "    def get_dict_list():\n",
    "        dic = Dict()\n",
    "        rna_to_aa = get_dict()\n",
    "        for key, value in rna_to_aa.items():\n",
    "            if value not in dic :\n",
    "                dic[value] = key\n",
    "            else\n",
    "                dic[value] = list(set(dic[value] + key))\n",
    "    return dic\n"
   ]
  },
  {
   "cell_type": "markdown",
   "metadata": {},
   "source": [
    "With the conversion tables at hand, the following should be trivial to solve.\n",
    "\n",
    "4. Fill in function ```rna_to_prot``` in the stub solution to convert a given DNA sequence $s$ into a protein sequence. \n",
    "You may use the dictionaries from exercises 2 and 3. You can test your program with `ATGATATCATCGACGATGTAG`."
   ]
  },
  {
   "cell_type": "code",
   "execution_count": 19,
   "metadata": {
    "ExecuteTime": {
     "end_time": "2019-07-08T22:04:22.913321Z",
     "start_time": "2019-07-08T22:04:22.906646Z"
    },
    "tags": []
   },
   "outputs": [
    {
     "output_type": "stream",
     "name": "stdout",
     "text": "MISSTM*\n"
    }
   ],
   "source": [
    "\n",
    "def rna_to_prot(s):\n",
    "    rna_to_acid = get_dict()\n",
    "\n",
    "    # Split RNA-sequence into groups of RNA-triplets\n",
    "    rna = re.findall(r'...', s)\n",
    "\n",
    "    #Create array containing amino acid for the RNA-triplet\n",
    "    amino_acids = [rna_to_acid[r] for r in rna]\n",
    "\n",
    "    # join amino acids into protein string\n",
    "    return ''.join(amino_acids)\n",
    "\n",
    "def dna_to_prot(s):\n",
    "    return rna_to_prot(dna_to_rna(s))\n",
    "\n",
    "if __name__ == '__main__':\n",
    "    print(dna_to_prot(\"ATGATATCATCGACGATGTAG\"))"
   ]
  },
  {
   "cell_type": "markdown",
   "metadata": {},
   "source": [
    "### Idea of solution\n",
    "\n",
    "My solution is to change DNA-sequence into RNA-sequense. Then split RNA-sequense into RNA-triplets. After this my solution gets corresponding amino acids from the dictionary as a list. Finaly I join the amino acid-list to string and return it."
   ]
  },
  {
   "cell_type": "markdown",
   "metadata": {},
   "source": [
    "### Discussion\n",
    "\n",
    "All test passed. Solution is the simplest I could think of. This is mostly because most of the hard work was already done in the previous exercises. All that was left to do was to split the RNA-sequence and change the aminoacids into wanted type."
   ]
  },
  {
   "cell_type": "markdown",
   "metadata": {},
   "source": [
    "You may notice that there are $4^3=64$ different codons, but only 20 amino acids. That is, some triplets encode the same amino acid.  "
   ]
  },
  {
   "cell_type": "markdown",
   "metadata": {},
   "source": [
    "## Reverse translation\n",
    "\n",
    "It has been observed that among the codons coding the same amino acid, some are more frequent than others. These frequencies can be converted to probabilities. E.g. consider codons `AUU`, `AUC`, and `AUA` that code for amino acid isoleucine.\n",
    "If they are observed, say, 36, 47, 17 times, respectively, to code isoleucine in a dataset, the probability that a random such event is `AUU` $\\to$ isoleucine is 36/100.\n",
    "\n",
    "This phenomenon is called *codon adaptation*, and for our purposes it works as a good introduction to generation of random sequences under constraints.   \n",
    "\n",
    "5. Consider the codon adaptation frequencies in http://htmlpreview.github.io/?https://github.com/csmastersUH/data_analysis_with_python_2020/blob/master/Codon%20usage%20table.html and read them into a ```dict()```, such that for each RNA sequence of length 3, say `AGU`, the hash table stores the probability of that codon among codons encoding the same amino acid.\n",
    "Put your solution in the ```get_probabability_dict``` function."
   ]
  },
  {
   "source": [
    "\n",
    "def get_probabability_dict():\n",
    "    df = get_codong_usage_table_as_data_frame()\n",
    "    amino_acids = df['amino acid']\n",
    "\n",
    "    # Get the sum_aa for each amino acid\n",
    "    sum_aa = dict()\n",
    "    for aa in set(amino_acids):\n",
    "        # use mask to get all the rows with same amino acid\n",
    "        mask = df['amino acid'] == aa\n",
    "        sum_aa[aa] = df.loc[mask, 'number'].sum()\n",
    "\n",
    "    # Calculate the probability for each codon\n",
    "    dic = dict()\n",
    "    codons = df['triplet']\n",
    "    df = df.set_index('triplet')\n",
    "    for codon in codons:\n",
    "        number = df.loc[codon, 'number']\n",
    "        amino_acid = df.loc[codon, 'amino acid']\n",
    "        dic[codon] =  number / sum_aa[amino_acid]\n",
    "    return dic\n",
    "\n",
    "if __name__ == '__main__':\n",
    "    codon_to_prob = get_probabability_dict()\n",
    "    items = sorted(codon_to_prob.items(), key=lambda x: x[0])\n",
    "    for i in range(1 + len(items)//6):\n",
    "        print('\\t'.join(f'{k}: {v:.6f}' for k, v in items[i*6:6+i*6]))"
   ],
   "cell_type": "code",
   "metadata": {
    "ExecuteTime": {
     "end_time": "2019-07-08T22:04:22.966173Z",
     "start_time": "2019-07-08T22:04:22.956013Z"
    },
    "tags": []
   },
   "execution_count": 20,
   "outputs": [
    {
     "output_type": "stream",
     "name": "stdout",
     "text": "AAA: 0.434049\tAAC: 0.529633\tAAG: 0.565951\tAAU: 0.470367\tACA: 0.284188\tACC: 0.355232\nACG: 0.113812\tACU: 0.246769\tAGA: 0.214658\tAGC: 0.239938\tAGG: 0.211091\tAGU: 0.149602\nAUA: 0.169062\tAUC: 0.469866\tAUG: 1.000000\tAUU: 0.361072\tCAA: 0.265017\tCAC: 0.581485\nCAG: 0.734983\tCAU: 0.418515\tCCA: 0.276603\tCCC: 0.323470\tCCG: 0.113196\tCCU: 0.286731\nCGA: 0.108812\tCGC: 0.183777\tCGG: 0.201554\tCGU: 0.080108\tCUA: 0.071380\tCUC: 0.195577\nCUG: 0.395702\tCUU: 0.131716\tGAA: 0.422453\tGAC: 0.535458\tGAG: 0.577547\tGAU: 0.464542\nGCA: 0.228121\tGCC: 0.399781\tGCG: 0.106176\tGCU: 0.265922\tGGA: 0.249922\tGGC: 0.337109\nGGG: 0.249882\tGGU: 0.163087\tGUA: 0.116577\tGUC: 0.238306\tGUG: 0.463346\tGUU: 0.181770\nUAA: 0.297019\tUAC: 0.556662\tUAG: 0.236738\tUAU: 0.443338\tUCA: 0.150517\tUCC: 0.217960\nUCG: 0.054398\tUCU: 0.187586\tUGA: 0.466243\tUGC: 0.543843\tUGG: 1.000000\tUGU: 0.456157\nUUA: 0.076568\tUUC: 0.535866\tUUG: 0.129058\tUUU: 0.464134\n"
    }
   ]
  },
  {
   "cell_type": "markdown",
   "metadata": {},
   "source": [
    "### Idea of solution\n",
    "\n",
    "The idea is to first calculate the sum from the number column for the same amino acid. Then we divide the number for each codon to its amino acid sum to get the overall ratio of that codon per all the same amino acid codons.\n"
   ]
  },
  {
   "cell_type": "markdown",
   "metadata": {},
   "source": [
    "### Discussion\n",
    "\n",
    "There are two ways to solve this. First and easy one is to read the fraction data from the table. In the second approach we are going to get the amount of how many times an amino acid appears. Then we calculate the fraction of that codon among the total amoun of the same amino acids.\n",
    "\n",
    "We used the second approach since it is more accurate (and it passed the TMC test)\n",
    "\n",
    "\n",
    "So we create a dictionay containing amino acid and how many times there are in total. \n",
    "Then for each codon we calculate the fraction of how many times it appears per thousand with the total amount of amino acid that codon creates."
   ]
  },
  {
   "cell_type": "markdown",
   "metadata": {},
   "source": [
    "Now you should have everything in place to easily solve the following.\n",
    "\n",
    "\n",
    "6. Write a class ```ProteinToMaxRNA``` with a ```convert``` method which converts a protein sequence into the most likely RNA sequence to be the source of this protein. Run your program with `LTPIQNRA`."
   ]
  },
  {
   "cell_type": "code",
   "execution_count": 21,
   "metadata": {
    "ExecuteTime": {
     "end_time": "2019-07-08T22:04:23.000743Z",
     "start_time": "2019-07-08T22:04:22.992108Z"
    },
    "tags": []
   },
   "outputs": [
    {
     "output_type": "stream",
     "name": "stdout",
     "text": "CUGACCCCCAUCCAGAACAGAGCC\n"
    }
   ],
   "source": [
    "class ProteinToMaxRNA:\n",
    "    \n",
    "    def __init__(self):\n",
    "        pass\n",
    "\n",
    "    def convert(self, s):\n",
    "        answer = []\n",
    "\n",
    "        # dict of all the amino acids and their codons\n",
    "        protein_rna = get_dict_list()\n",
    "        # probability for each codon\n",
    "        probability = get_probabability_dict()\n",
    "    \n",
    "        for protein in s:\n",
    "            # all codons for amino acid\n",
    "            codons = protein_rna[protein]\n",
    "\n",
    "            # Then we get the codon with the highest probability\n",
    "            max_codon = codons[0]\n",
    "            max_value = probability[max_codon]\n",
    "            for codon in codons:\n",
    "                if(max_value < probability[codon]):\n",
    "                    max_codon = codon\n",
    "                    max_value = probability[codon]\n",
    "\n",
    "            # add codon with highest probability to answer list\n",
    "            answer.append(max_codon)\n",
    "\n",
    "        # return string of all the codons\n",
    "        return ''.join(answer)\n",
    "\n",
    "\n",
    "if __name__ == '__main__':\n",
    "    protein_to_rna = ProteinToMaxRNA()\n",
    "    print(protein_to_rna.convert(\"LTPIQNRA\"))"
   ]
  },
  {
   "cell_type": "markdown",
   "metadata": {},
   "source": [
    "### Idea of solution\n",
    "\n",
    "Idea is that for each protein we find the codon with biggest fraction (probability) and add this codon to the list. Then we join the codon array into string."
   ]
  },
  {
   "cell_type": "markdown",
   "metadata": {},
   "source": [
    "### Discussion\n",
    "\n",
    "With earlier exercises this one was quite straight forward. "
   ]
  },
  {
   "cell_type": "markdown",
   "metadata": {},
   "source": [
    "Now we are almost ready to produce random RNA sequences that code a given protein sequence. For this, we need a subroutine to *sample from a probability distribution*. Consider our earlier example of probabilities 36/100, 47/100, and 17/100 for `AUU`, `AUC`, and `AUA`, respectively. \n",
    "Let us assume we have a random number generator ```random()``` that returns a random number from interval $[0,1)$. We may then partition the unit interval according to cumulative probabilities to $[0,36/100), [36/100,83/100), [83/100,1)$, respectively. Depending which interval the number ```random()``` hits, we select the codon accordingly.\n",
    "\n",
    "7. Write a function ```random_event``` that chooses a random event, given a probability distribution (set of events whose probabilities sum to 1).\n",
    "You can use function ```random.uniform``` to produce values uniformly at random from the range $[0,1)$. The distribution should be given to your function as a dictionary from events to their probabilities."
   ]
  },
  {
   "cell_type": "code",
   "execution_count": 22,
   "metadata": {
    "ExecuteTime": {
     "end_time": "2019-07-08T22:04:23.036655Z",
     "start_time": "2019-07-08T22:04:23.030067Z"
    },
    "tags": []
   },
   "outputs": [
    {
     "output_type": "stream",
     "name": "stdout",
     "text": "C, T, T, C, G, C, G, T, T, T, C, T, C, C, C, C, T, G, A, T, A, T, C, T, G, T, A, T, T\n"
    }
   ],
   "source": [
    "def random_event(dist):\n",
    "    \"\"\"\n",
    "    Takes as input a dictionary from events to their probabilities.\n",
    "    Return a random event sampled according to the given distribution.\n",
    "    The probabilities must sum to 1.0\n",
    "    \"\"\"\n",
    "    return choice(list(dist.keys()), p=list(dist.values()))\n",
    "\n",
    "if __name__ == '__main__':\n",
    "    distribution = dict(zip(\"ACGT\", [0.10, 0.35, 0.15, 0.40]))\n",
    "    print(\", \".join(random_event(distribution) for _ in range(29)))"
   ]
  },
  {
   "cell_type": "markdown",
   "metadata": {},
   "source": [
    "### Idea of solution\n",
    "\n",
    "The idea is to use numpys random.choice. We give the keys and their probabilities and then return one of the keys by their probabilites."
   ]
  },
  {
   "cell_type": "markdown",
   "metadata": {},
   "source": [
    "### Discussion\n",
    "\n",
    "All the test passed. Solution is quite simple with the help of telegram and google. At first I wasn't quite sure what I was supposed to do."
   ]
  },
  {
   "cell_type": "markdown",
   "metadata": {},
   "source": [
    "With this general routine, the following should be easy to solve.\n",
    " \n",
    "8. Write a class ```ProteinToRandomRNA``` to produce a random RNA sequence encoding the input protein sequence according to the input codon adaptation probabilities. The actual conversion is done through the ```convert``` method. Run your program with `LTPIQNRA`."
   ]
  },
  {
   "cell_type": "code",
   "execution_count": 23,
   "metadata": {
    "ExecuteTime": {
     "end_time": "2019-07-08T22:04:23.073660Z",
     "start_time": "2019-07-08T22:04:23.067966Z"
    },
    "tags": []
   },
   "outputs": [
    {
     "output_type": "stream",
     "name": "stdout",
     "text": "CUUACACCCAUCCAGAACCGCGCG\n"
    }
   ],
   "source": [
    "class ProteinToRandomRNA(object):\n",
    "    \n",
    "    def __init__(self):\n",
    "        pass\n",
    "\n",
    "    def convert(self, s):\n",
    "        ans = []\n",
    "        \n",
    "        # get all possible codons for amino acid\n",
    "        aa_codons = get_dict_list()\n",
    "\n",
    "        # probability for each codon\n",
    "        codons_probability = get_probabability_dict()\n",
    "\n",
    "        for aa in s:\n",
    "            codons = aa_codons[aa]\n",
    "\n",
    "            # Then get probabilities for each codon\n",
    "            prob_dict = dict()\n",
    "            for codon in codons:\n",
    "                prob_dict[codon] = codons_probability[codon]\n",
    "\n",
    "            # Then picks one codon randomly using ex.7 function\n",
    "            ans.append(random_event(prob_dict))\n",
    "\n",
    "        # join all the codons into a string and return\n",
    "        return ''.join(ans)\n",
    "        \n",
    "if __name__ == '__main__':\n",
    "    protein_to_random_codons = ProteinToRandomRNA()\n",
    "    print(protein_to_random_codons.convert(\"LTPIQNRA\"))"
   ]
  },
  {
   "cell_type": "markdown",
   "metadata": {},
   "source": [
    "### Idea of solution\n",
    "\n",
    "The idea is that we pick one codon by their probability for each amino acid in protein."
   ]
  },
  {
   "cell_type": "markdown",
   "metadata": {},
   "source": [
    "### Discussion\n",
    "\n",
    "As stated in the description of the exercise the solution is quite simple."
   ]
  },
  {
   "cell_type": "markdown",
   "metadata": {},
   "source": [
    "## Generating DNA sequences with higher-order Markov chains\n",
    "\n",
    "We will now reuse the machinery derived above in a related context. We go back to DNA sequences, and consider some easy statistics that can be used to characterize the sequences. \n",
    "First, just the frequencies of bases $\\texttt{A}$, $\\texttt{C}$, $\\texttt{G}$, $\\texttt{T}$ may reveal the species from which the input DNA originates; each species has a different base composition that has been formed during evolution. \n",
    "More interestingly, the areas where DNA to RNA transcription takes place (coding region) have an excess of $\\texttt{C}$ and $\\texttt{G}$ over $\\texttt{A}$ and $\\texttt{T}$. To detect such areas a common routine is to just use a *sliding window* of fixed size, say $k$, and compute for each window position \n",
    "$T[i..i+k-1]$ the base frequencies, where $T[1..n]$ is the input DNA sequence. When sliding the window from  $T[i..i+k-1]$ to $T[i+1..i+k]$ frequency $f(T[i])$ gets decreases by one and $f(T[i+k])$ gets increased by one. \n",
    "\n",
    "9. Write a *generator* ```sliding_window``` to compute sliding window base frequencies so that each moving of the window takes constant time. We saw in the beginning of the course one way how to create generators using\n",
    "  generator expression. Here we use a different way. For the function ```sliding_window``` to be a generator, it must have at least   one ```yield``` expression, see [https://docs.python.org/3/reference/expressions.html#yieldexpr](https://docs.python.org/3/reference/expressions.html#yieldexpr).\n",
    "  \n",
    "  Here is an example of a generator expression that works similarily to the built in `range` generator:\n",
    "  ```Python\n",
    "  def range(a, b=None, c=1):\n",
    "      current = 0 if b == None else a\n",
    "      end = a if b == None else b\n",
    "      while current < end:\n",
    "          yield current\n",
    "          current += c\n",
    "  ```\n",
    "  A yield expression can be used to return a value and *temporarily* return from the function."
   ]
  },
  {
   "cell_type": "code",
   "execution_count": 24,
   "metadata": {
    "ExecuteTime": {
     "end_time": "2019-07-08T22:04:23.111365Z",
     "start_time": "2019-07-08T22:04:23.100858Z"
    },
    "tags": []
   },
   "outputs": [
    {
     "output_type": "stream",
     "name": "stdout",
     "text": "- {'a': 1, 'c': 1, 'b': 1}\n"
    }
   ],
   "source": [
    "def sliding_window(s, k):\n",
    "    \"\"\"\n",
    "    This function returns a generator that can be iterated over all\n",
    "    starting position of a k-window in the sequence.\n",
    "    For each starting position the generator returns the nucleotide frequencies\n",
    "    in the window as a dictionary.\n",
    "    \"\"\"\n",
    "    # start index for substring\n",
    "    i = 0\n",
    "    # unique characters in string s\n",
    "    keys = set(s)\n",
    "\n",
    "    for _ in s:\n",
    "        # exit loop if over the end of the string\n",
    "        if(len(s) < i+k):\n",
    "            break\n",
    "\n",
    "        # create dictionay with unique characters and their amount\n",
    "        dic = dict.fromkeys(set(s), 0)\n",
    "\n",
    "        # current substring if the string s\n",
    "        substring = s[i:i+k]\n",
    "        \n",
    "        # count the amount of each character\n",
    "        for char in set(substring):\n",
    "            dic[char] = substring.count(char)\n",
    "\n",
    "        # yield the dictionary\n",
    "        yield dic\n",
    "\n",
    "        # move to the next start point\n",
    "        i = i+1\n",
    "        \n",
    "    \n",
    "if __name__ == '__main__':\n",
    "    s = \"abc\"\n",
    "    for d in sliding_window(s, 3):\n",
    "        print('-',d)"
   ]
  },
  {
   "cell_type": "markdown",
   "metadata": {},
   "source": [
    "### Idea of solution\n",
    "\n",
    "Is to calculate the amount of characters found in the substring of the string. We iterate trough the string and break the loop after reaching the end of the string.\n",
    "\n",
    "First we break the loop if the wanted substring goes 'over' the string. \n",
    "\n",
    "Then we create new dictionary with unique characters of the string.\n",
    "\n",
    "Then we save the amoun of each character found in the substring and return the dictionary.\n",
    "\n",
    "After yielding we increase the starting point of the substring."
   ]
  },
  {
   "cell_type": "markdown",
   "metadata": {},
   "source": [
    "### Discussion\n",
    "\n",
    "After getting what the yield does it was simple to count the occurrence of characters in substring. \n",
    "\n",
    "The function does nothing if the k value is bigger than the length of the string. This is because in the TMC-test I got the idea that it is not necessary to start the count from beginning."
   ]
  },
  {
   "cell_type": "markdown",
   "metadata": {},
   "source": [
    " \n",
    "Our models so far have been so-called *zero-order* models, as each event has been independent of other events. With sequences, the dependencies of events are naturally encoded by their *contexts*. Considering that a sequence is produced from left-to-right, a *first-order* context for $T[i]$ is $T[i-1]$, that is, the immediately preceding symbol. *First-order Markov chain* is a sequence produced by generating $c=T[i]$ with the probability of event of seeing symbol $c$ after previously generated symbol $a=T[i-1]$. The first symbol of the chain is sampled according to the zero-order model.  \n",
    "The first-order model can naturally be extended to contexts of length $k$, with $T[i]$ depending on $T[i-k..i-1]$. Then the first $k$ symbols of the chain are sampled according to the zero-order model.  The following assignments develop the routines to work with the *higher-order Markov chains*. \n",
    "In what follows, a $k$-mer is a substring $T[i..i+k-1]$ of the sequence at an arbitrary position. \n",
    "\n",
    "10. Write function ```context_list``` that given an input DNA sequence $T$ associates to each $k$-mer $W$ the concatenation of all symbols $c$ that appear after context $W$ in $T$, that is, $T[i..i+k]=Wc$. For example, <span style=\"color:red; font:courier;\">GA</span> is associated to <span style=\"color:blue; font: courier;\">TCT</span> in $T$=<span style=\"font: courier;\">AT<span style=\"color:red;\">GA</span><span style=\"color:blue;\">T</span>ATCATC<span style=\"color:red;\">GA</span><span style=\"color:blue;\">C</span><span style=\"color:red;\">GA</span><span style=\"color:blue;\">T</span>GTAG</span>, when $k=2$."
   ]
  },
  {
   "cell_type": "code",
   "execution_count": 25,
   "metadata": {
    "ExecuteTime": {
     "end_time": "2019-07-08T22:04:23.168108Z",
     "start_time": "2019-07-08T22:04:23.162648Z"
    },
    "tags": []
   },
   "outputs": [
    {
     "output_type": "stream",
     "name": "stdout",
     "text": "A B\nB C\n"
    }
   ],
   "source": [
    "def context_list(s, k):\n",
    "    dic = dict()\n",
    "\n",
    "    # get starting index for each possible substring\n",
    "    for start_i in range(len(s)-k):\n",
    "\n",
    "        # get substring length k+1\n",
    "        substring = s[start_i:start_i+k+1]\n",
    "\n",
    "        # make sure that substring is the rigth size\n",
    "        if(len(substring)>k):\n",
    "        # divide substring into key and value, \n",
    "        #   key is the k length substring\n",
    "        #   value the character after this k length substring\n",
    "            key, value = substring[0:-1], substring[-1]\n",
    "\n",
    "            # create key in to dictionary if it dosn't exist\n",
    "            if(key not in dic.keys()):\n",
    "                dic[key] = ''\n",
    "\n",
    "            # add value to result string\n",
    "            dic[key] = dic[key] + value\n",
    "    return dic\n",
    "\n",
    "if __name__ == '__main__':\n",
    "    k = 2\n",
    "    s = 'ABC'\n",
    "    d = context_list(s, 1)\n",
    "    for key in d.keys():\n",
    "        print(key, d[key])"
   ]
  },
  {
   "cell_type": "markdown",
   "metadata": {},
   "source": [
    "### Idea of solution\n",
    "\n",
    "The idea is to create all possible substrings with size of k+1. After this we slice the substring into to substrings. First sliced substring contains the key value (W in the description) and second substring value (c). Then we save this data into dictionary and return it."
   ]
  },
  {
   "cell_type": "markdown",
   "metadata": {},
   "source": [
    "### Discussion\n",
    "\n",
    "My solution passed all the test. We could add something to handle the error in case k < 0. But I didn't do this. I think we can assume that k is always non negative"
   ]
  },
  {
   "cell_type": "markdown",
   "metadata": {},
   "source": [
    "11. With the above solution, write function ```context_probabilities``` to count the frequencies of symbols in each context and convert these frequencies into probabilities. Run `context_probabilities` with $T=$ `ATGATATCATCGACGATGTAG` and $k$ values 0 and 2."
   ]
  },
  {
   "cell_type": "code",
   "execution_count": 26,
   "metadata": {
    "ExecuteTime": {
     "end_time": "2019-07-08T22:04:23.218964Z",
     "start_time": "2019-07-08T22:04:23.213773Z"
    },
    "tags": []
   },
   "outputs": [
    {
     "output_type": "stream",
     "name": "stdout",
     "text": "{'AT': {'A': 0.2, 'G': 0.4, 'C': 0.4}, 'TG': {'A': 0.5, 'T': 0.5}, 'GA': {'C': 0.3333333333333333, 'T': 0.6666666666666666}, 'TA': {'G': 0.5, 'T': 0.5}, 'TC': {'A': 0.5, 'G': 0.5}, 'CA': {'T': 1.0}, 'CG': {'A': 1.0}, 'AC': {'G': 1.0}, 'GT': {'A': 1.0}}\n{'': {'A': 0.3333333333333333, 'G': 0.23809523809523808, 'C': 0.14285714285714285, 'T': 0.2857142857142857}}\n"
    }
   ],
   "source": [
    "def context_probabilities(s, k):\n",
    "    \n",
    "    dic = dict()\n",
    "\n",
    "    for key, value in context_list(s,k).items():\n",
    "    \n",
    "        prob_dict=dict()\n",
    "        l = len(value)\n",
    "\n",
    "        for char in set(value):\n",
    "    \n",
    "            # count the frequencie each character is found in the string\n",
    "            amount = value.count(char)\n",
    "    \n",
    "            # save probability of that character \n",
    "            prob_dict[char] = amount / l\n",
    "    \n",
    "        # save probability of all characters to key value\n",
    "        dic[key] = prob_dict\n",
    "    \n",
    "    return dic\n",
    "    \n",
    "if __name__ == '__main__':\n",
    "    c = context_probabilities('ATGATATCATCGACGATGTAG',2)\n",
    "    print(c)\n",
    "    c = context_probabilities('ATGATATCATCGACGATGTAG',0)\n",
    "    print(c)\n"
   ]
  },
  {
   "cell_type": "markdown",
   "metadata": {},
   "source": [
    "### Idea of solution\n",
    "\n",
    "Idea is to use the function from previous exercise.From here we calculate the frequency of each character in string and convert it to probability of that character appearing in the string. Then we save the probability dictionary into another dictionay. Now we have dictionay where context is the key to get the probability dictionary of each character."
   ]
  },
  {
   "cell_type": "markdown",
   "metadata": {},
   "source": [
    "### Discussion\n",
    "\n",
    "All test passed. Solution it self is simple with previous exercise. All we need to do is to calculate each symbols frequency and turn that into probability of that symbol to appear in the context."
   ]
  },
  {
   "cell_type": "markdown",
   "metadata": {},
   "source": [
    "12. With the above solution and the function ```random_event``` from the earlier exercise, write class ```MarkovChain```. Its ```generate``` method should generate a random DNA sequence following the original $k$-th order Markov chain probabilities. "
   ]
  },
  {
   "source": [
    "class MarkovChain:\n",
    "    def __init__(self, zeroth, kth, k=2):\n",
    "        self.zeroth = zeroth\n",
    "        self.kth = kth\n",
    "        self.k = k\n",
    "\n",
    "    def generate(self, n, seed=None):\n",
    "        ans = ''\n",
    "        rs = np.random.RandomState(seed=seed)\n",
    "        keys = list(self.zeroth.keys())\n",
    "        prob = list(self.zeroth.values())\n",
    "        while(len(ans) < n):\n",
    "            # Here we create the zeroth\n",
    "            if(len(ans) < self.k):\n",
    "                ans += rs.choice(keys, p=prob)\n",
    "                continue\n",
    "            # Last two DNA to get the next one\n",
    "            last = ans[-2:]\n",
    "            keys = list(self.kth[last].keys())\n",
    "            prob = list(self.kth[last].values())\n",
    "\n",
    "            ans += rs.choice(keys, p=prob)\n",
    "        return ans\n",
    "\n",
    "if __name__ == '__main__':\n",
    "    zeroth = {'A': 0.2, 'C': 0.19, 'T': 0.31, 'G': 0.3}\n",
    "    kth = {\n",
    "    'GT': {'A': 1.0, 'C': 0.0, 'T': 0.0, 'G': 0.0},\n",
    "    'CA': {'A': 0.0, 'C': 0.0, 'T': 1.0, 'G': 0.0},\n",
    "    'TC': {'A': 0.5, 'C': 0.0, 'T': 0.0, 'G': 0.5},\n",
    "    'GA': {'A': 0.0, 'C': 0.3333333333333333, 'T': 0.6666666666666666, 'G': 0.0},\n",
    "    'TG': {'A': 0.5, 'C': 0.0, 'T': 0.5, 'G': 0.0},\n",
    "    'AT': {'A': 0.2, 'C': 0.4, 'T': 0.0, 'G': 0.4},\n",
    "    'TA': {'A': 0.0, 'C': 0.0, 'T': 0.5, 'G': 0.5},\n",
    "    'AC': {'A': 0.0, 'C': 0.0, 'T': 0.0, 'G': 1.0},\n",
    "    'CG': {'A': 1.0, 'C': 0.0, 'T': 0.0, 'G': 0.0}}\n",
    "    n = 10    \n",
    "    seed = 5\n",
    "    mc = MarkovChain(zeroth, kth)\n",
    "    try:\n",
    "        print(mc.generate(n, seed) == mc.generate(n, seed))\n",
    "        print(mc.generate(n,seed))\n",
    "    except KeyError:\n",
    "        print('NOT SAME')"
   ],
   "cell_type": "code",
   "metadata": {
    "ExecuteTime": {
     "end_time": "2019-07-08T22:04:23.279315Z",
     "start_time": "2019-07-08T22:04:23.253983Z"
    },
    "tags": []
   },
   "execution_count": 27,
   "outputs": [
    {
     "output_type": "stream",
     "name": "stdout",
     "text": "True\nCGATCGATCA\n"
    }
   ]
  },
  {
   "cell_type": "markdown",
   "metadata": {},
   "source": [
    "### Idea of solution\n",
    "\n",
    "Is to randomly pick k times random DNA from zeroth dictionay. After this we use kth dictionary using last k DNAs.\n"
   ]
  },
  {
   "cell_type": "markdown",
   "metadata": {},
   "source": [
    "### Discussion\n",
    "\n",
    "I was able to pick randomly using the seed value. I didn't use functions from prevoius exercise since I had no idea how to get same result every time we run the generator (with same n and seed value). This is because random event won't take seed value.\n",
    "\n",
    "Also I didn't see any use for the above function(ex 11). \n",
    "\n",
    "Now my solution generates DNA sequence where first k DNA are selected randomly from the zeroth distribution and after this using the kmer distribution.\n",
    "\n",
    "Not using the random_event made possible to get same results with same seed and length value.\n",
    "\n",
    "Also note that there is a possibility, when picing the next DNA from the kmer distribution, that we run into key error. This is because in kmer distribution there isn't every possible option. Since we tackle this problem in the next exercise I didn't use any more time in this exercise. One possibility would have been to catch the keyError and pick one DNA randomly."
   ]
  },
  {
   "cell_type": "markdown",
   "metadata": {},
   "source": [
    "If you have survived so far without problems, please run your program a few more times with different inputs. At some point you should get a lookup error in your hash-table! The reason for this is not your code, but the way we defined the model: Some $k$-mers may not be among the training data (input sequence $T$), but such can be generated as the first $k$-mer that is generated using the zero-order model.  \n",
    "\n",
    "A general approach to fixing such issues with incomplete training data is to use *pseudo counts*. That is, all imaginable events are initialized to frequency count 1.   \n",
    "\n",
    "13. Write a new solution `context_pseudo_probabilities` based on the solution to problem 11. But this time use pseudo counts in order to obtain a $k$-th order Markov chain that can assign a probability for any DNA sequence. You may use the standard library function `itertools.product` to iterate over all $k$-mer of given length (`product(\"ACGT\", repeat=k)`)."
   ]
  },
  {
   "cell_type": "code",
   "execution_count": 68,
   "metadata": {
    "ExecuteTime": {
     "end_time": "2019-07-08T22:04:23.303566Z",
     "start_time": "2019-07-08T22:04:23.296028Z"
    },
    "tags": []
   },
   "outputs": [
    {
     "output_type": "stream",
     "name": "stdout",
     "text": "{'AT': {'A': 0.2222222222222222, 'G': 0.3333333333333333, 'C': 0.3333333333333333, 'T': 0.1111111111111111}, 'TG': {'A': 0.3333333333333333, 'G': 0.16666666666666666, 'C': 0.16666666666666666, 'T': 0.3333333333333333}, 'GA': {'A': 0.14285714285714285, 'G': 0.14285714285714285, 'C': 0.2857142857142857, 'T': 0.42857142857142855}, 'TA': {'A': 0.16666666666666666, 'G': 0.3333333333333333, 'C': 0.16666666666666666, 'T': 0.3333333333333333}, 'TC': {'A': 0.3333333333333333, 'G': 0.3333333333333333, 'C': 0.16666666666666666, 'T': 0.16666666666666666}, 'CA': {'A': 0.2, 'G': 0.2, 'C': 0.2, 'T': 0.4}, 'CG': {'A': 0.5, 'G': 0.16666666666666666, 'C': 0.16666666666666666, 'T': 0.16666666666666666}, 'AC': {'A': 0.2, 'G': 0.4, 'C': 0.2, 'T': 0.2}, 'GT': {'A': 0.4, 'G': 0.2, 'C': 0.2, 'T': 0.2}, 'AA': {'A': 0.25, 'G': 0.25, 'C': 0.25, 'T': 0.25}, 'AG': {'A': 0.25, 'G': 0.25, 'C': 0.25, 'T': 0.25}, 'GG': {'A': 0.25, 'G': 0.25, 'C': 0.25, 'T': 0.25}, 'GC': {'A': 0.25, 'G': 0.25, 'C': 0.25, 'T': 0.25}, 'CC': {'A': 0.25, 'G': 0.25, 'C': 0.25, 'T': 0.25}, 'CT': {'A': 0.25, 'G': 0.25, 'C': 0.25, 'T': 0.25}, 'TT': {'A': 0.25, 'G': 0.25, 'C': 0.25, 'T': 0.25}}\n"
    }
   ],
   "source": [
    "def context_pseudo_probabilities(s, k):\n",
    "    uniq = list(set(s))\n",
    "    all_possible_keys = [''.join(tuple_of) for tuple_of in itertools.product(set(s), repeat=k)]\n",
    "\n",
    "    # 11\n",
    "    dic = dict()\n",
    "    for key, value in context_list(s,k).items():\n",
    "        prob_dict = dict()\n",
    "        l = len(value) + 4\n",
    "        for char in uniq:\n",
    "            amount = value.count(char)\n",
    "            prob_dict[char] = (amount + 1) / l\n",
    "                \n",
    "        dic[key] = prob_dict\n",
    "    key_dict = dict(zip(uniq,np.full(len(uniq),1/len(uniq))))\n",
    "    for key in all_possible_keys:\n",
    "        if(key not in dic.keys()):\n",
    "            dic[key] = key_dict\n",
    "    return dic\n",
    "\n",
    "if __name__ == '__main__':\n",
    "    k = 2\n",
    "    s = \"ATGATATCATCGACGATGTAG\" # AT -> G, A, C, C, G > 3 G, 2 a, 3 c, 1 t\n",
    "    kth = context_pseudo_probabilities(s, 2)\n",
    "    print(kth)\n",
    "    #zeroth = context_pseudo_probabilities(s, 0)[\"\"]\n",
    "    #print(f\"zeroth: {zeroth}\")\n",
    "    #print(\"\\n\".join(f\"{k}: {dict(v)}\" for k, v in kth.items()))\n",
    "    \n",
    "    #print(\"\\n\", MarkovChain(zeroth, kth, k).generate(20))"
   ]
  },
  {
   "cell_type": "markdown",
   "metadata": {},
   "source": [
    "### Idea of solution\n",
    "\n",
    "fill in "
   ]
  },
  {
   "cell_type": "markdown",
   "metadata": {},
   "source": [
    "### Discussion\n",
    "\n",
    "fill in "
   ]
  },
  {
   "cell_type": "markdown",
   "metadata": {},
   "source": [
    "14. Write class ```MarkovProb``` that given the $k$-th order Markov chain developed above to the constructor, its method ```probability``` computes the probability of a given input DNA sequence."
   ]
  },
  {
   "cell_type": "code",
   "execution_count": 105,
   "metadata": {
    "ExecuteTime": {
     "end_time": "2019-07-08T22:04:23.346222Z",
     "start_time": "2019-07-08T22:04:23.330779Z"
    },
    "tags": []
   },
   "outputs": [
    {
     "output_type": "stream",
     "name": "stdout",
     "text": "Probability of sequence ATGATATCATCGACGATGTAG is nan\n"
    }
   ],
   "source": [
    "class MarkovProb:\n",
    "    def __init__(self, k, zeroth, kth):\n",
    "        self.k = k\n",
    "        self.zeroth = zeroth\n",
    "        self.kth = kth\n",
    "        \n",
    "    def probability(self, s):\n",
    "        return np.nan\n",
    "\n",
    "    \n",
    "if __name__ == '__main__':\n",
    "    k = 2\n",
    "    kth = context_pseudo_probabilities(\"ATGATATCATCGACGATGTAG\", k)\n",
    "    zeroth = context_pseudo_probabilities(\"ATGATATCATCGACGATGTAG\", 0)[\"\"]\n",
    "    mc = MarkovProb(2, zeroth, kth)\n",
    "    s=\"ATGATATCATCGACGATGTAG\"\n",
    "    print(f\"Probability of sequence {s} is {mc.probability(s)}\")"
   ]
  },
  {
   "cell_type": "markdown",
   "metadata": {},
   "source": [
    "### Idea of solution\n",
    "\n",
    "fill in"
   ]
  },
  {
   "cell_type": "markdown",
   "metadata": {},
   "source": [
    "### Discussion\n",
    "\n",
    "fill in"
   ]
  },
  {
   "cell_type": "markdown",
   "metadata": {},
   "source": [
    "With the last assignment you might end up in trouble with precision, as multiplying many small probabilities gives a really small number in the end. There is an easy fix by using so-called log-transform. \n",
    "Consider computation of $P=s_1 s_2 \\cdots s_n$, where $0\\leq s_i\\leq 1$ for each $i$. Taking logarithm in base 2 from both sides gives $\\log _2 P= \\log _2 (s_1 s_2 \\cdots s_n)=\\log_2 s_1 + \\log_2 s_2 + \\cdots \\log s_n= \\sum_{i=1}^n \\log s_i$, with repeated application of the property that the logarithm of a multiplication of two numbers is the sum of logarithms of the two numbers taken separately. The results is abbreviated as log-probability.\n",
    "\n",
    "15. Write class ```MarkovLog``` that given the $k$-th order Markov chain developed above to the constructor, its method ```log_probability``` computes the log-probability of a given input DNA sequence. Run your program with $T=$ `ATGATATCATCGACGATGTAG` and $k=2$."
   ]
  },
  {
   "cell_type": "code",
   "execution_count": 106,
   "metadata": {
    "ExecuteTime": {
     "end_time": "2019-07-08T22:04:23.390453Z",
     "start_time": "2019-07-08T22:04:23.379760Z"
    },
    "tags": []
   },
   "outputs": [
    {
     "output_type": "stream",
     "name": "stdout",
     "text": "Log probability of sequence ATGATATCATCGACGATGTAG is nan\n"
    }
   ],
   "source": [
    "class MarkovLog(object):\n",
    "\n",
    "    def __init__(self, k, zeroth, kth):\n",
    "        pass\n",
    "        \n",
    "    def log_probability(self, s):\n",
    "        return np.nan\n",
    "    \n",
    "if __name__ == '__main__':\n",
    "    k = 2\n",
    "    kth = context_pseudo_probabilities(\"ATGATATCATCGACGATGTAG\", k)\n",
    "    zeroth = context_pseudo_probabilities(\"ATGATATCATCGACGATGTAG\", 0)[\"\"]\n",
    "    mc = MarkovLog(2, zeroth, kth)\n",
    "    s=\"ATGATATCATCGACGATGTAG\"\n",
    "    print(f\"Log probability of sequence {s} is {mc.log_probability(s)}\")"
   ]
  },
  {
   "cell_type": "markdown",
   "metadata": {},
   "source": [
    "### Idea of solution\n",
    "\n",
    "fill in"
   ]
  },
  {
   "cell_type": "markdown",
   "metadata": {},
   "source": [
    "### Discussion\n",
    "\n",
    "fill in"
   ]
  },
  {
   "cell_type": "markdown",
   "metadata": {},
   "source": [
    "Finally, if you try to use the code so far for very large inputs, you might observe that the concatenation of symbols following a context occupy considerable amount of space. This is unnecessary, as we only need the frequencies. \n",
    "\n",
    "16. Optimize the space requirement of your code from exercise 13 for the $k$-th order Markov chain by replacing the concatenations by direct computations of the frequencies. Implement this as the\n",
    "  ```better_context_probabilities``` function."
   ]
  },
  {
   "cell_type": "code",
   "execution_count": 107,
   "metadata": {
    "ExecuteTime": {
     "end_time": "2019-07-08T22:04:23.422302Z",
     "start_time": "2019-07-08T22:04:23.416330Z"
    },
    "tags": []
   },
   "outputs": [
    {
     "output_type": "stream",
     "name": "stdout",
     "text": ": \n"
    }
   ],
   "source": [
    "def better_context_probabilities(s, k):\n",
    "    return {\"\": \"\"}\n",
    "\n",
    "if __name__ == '__main__':\n",
    "    k = 2\n",
    "    s = \"ATGATATCATCGACGATGTAG\"\n",
    "    d = better_context_probabilities(s, k)\n",
    "    print(\"\\n\".join(f\"{k}: {v}\" for k, v in d.items()))"
   ]
  },
  {
   "cell_type": "markdown",
   "metadata": {},
   "source": [
    "### Idea of solution\n",
    "\n",
    "fill in"
   ]
  },
  {
   "cell_type": "markdown",
   "metadata": {},
   "source": [
    "### Discussion\n",
    "\n",
    "fill in"
   ]
  },
  {
   "cell_type": "markdown",
   "metadata": {},
   "source": [
    "While the earlier approach of explicit concatenation of symbols following a context suffered from inefficient use of space, it does have a benefit of giving another much simpler strategy to sample from the distribution: \n",
    "observe that an element of the concatenation taken uniformly randomly is sampled exactly with the correct probability. \n",
    "\n",
    "17. Revisit the solution 12 and modify it to directly sample from the concatenation of symbols following a context. The function ```np.random.choice``` may be convenient here. Implement the modified version as the new `SimpleMarkovChain` class."
   ]
  },
  {
   "cell_type": "code",
   "execution_count": 108,
   "metadata": {
    "ExecuteTime": {
     "end_time": "2019-07-08T22:04:23.462556Z",
     "start_time": "2019-07-08T22:04:23.453101Z"
    },
    "tags": []
   },
   "outputs": [
    {
     "output_type": "stream",
     "name": "stdout",
     "text": "QQQQQQQQQQ\n"
    }
   ],
   "source": [
    "class SimpleMarkovChain(object):\n",
    "    def __init__(self, s, k):\n",
    "        pass\n",
    "\n",
    "    def generate(self, n, seed=None):\n",
    "        return \"Q\"*n\n",
    "        \n",
    "if __name__ == '__main__':\n",
    "    k = 2\n",
    "    s = \"ATGATATCATCGACGATGTAG\"\n",
    "    n = 10\n",
    "    seed = 7\n",
    "    mc = SimpleMarkovChain(s, k)\n",
    "    print(mc.generate(n, seed))"
   ]
  },
  {
   "cell_type": "markdown",
   "metadata": {},
   "source": [
    "### Idea of solution\n",
    "\n",
    "fill in"
   ]
  },
  {
   "cell_type": "markdown",
   "metadata": {},
   "source": [
    "### Discussion\n",
    "\n",
    "fill in"
   ]
  },
  {
   "cell_type": "markdown",
   "metadata": {},
   "source": [
    "## $k$-mer index\n",
    "\n",
    "Our $k$-th order Markov chain can now be modified to a handy index structure called $k$-mer index. This index structure associates to each $k$-mer its list of occurrence positions in DNA sequence $T$.  Given a query $k$-mer $W$, one can thus easily list all positions $i$ with  $T[i..k-1]=W$.\n",
    "\n",
    "18. Implement function ```kmer_index``` inspired by your earlier code for the $k$-th order Markov chain. Test your program with `ATGATATCATCGACGATGTAG` and $k=2$."
   ]
  },
  {
   "cell_type": "code",
   "execution_count": 109,
   "metadata": {
    "ExecuteTime": {
     "end_time": "2019-07-08T22:04:23.504405Z",
     "start_time": "2019-07-08T22:04:23.494537Z"
    },
    "tags": []
   },
   "outputs": [
    {
     "output_type": "stream",
     "name": "stdout",
     "text": "Using string:\nATGATATCATCGACGATGTAG\n012345678901234567890\n\n2-mer index is:\n{}\n"
    }
   ],
   "source": [
    "def kmer_index(s, k):\n",
    "    return {}\n",
    "\n",
    "if __name__ == '__main__':\n",
    "    k=2\n",
    "    s = \"ATGATATCATCGACGATGTAG\"\n",
    "    print(\"Using string:\")\n",
    "    print(s)\n",
    "    print(\"\".join([str(i%10) for i in range(len(s))]))\n",
    "    print(f\"\\n{k}-mer index is:\")\n",
    "    d=kmer_index(s, k)\n",
    "    print(dict(d))"
   ]
  },
  {
   "cell_type": "markdown",
   "metadata": {},
   "source": [
    "### Idea of solution\n",
    "\n",
    "fill in"
   ]
  },
  {
   "cell_type": "markdown",
   "metadata": {},
   "source": [
    "### Discussion\n",
    "\n",
    "fill in"
   ]
  },
  {
   "cell_type": "markdown",
   "metadata": {},
   "source": [
    "## Comparison of probability distributions\n",
    "\n",
    "Now that we know how to learn probability distributions from data, we might want to compare two such distributions, for example, to test if our programs work as intended. \n",
    "\n",
    "Let $P=\\{p_1,p_2,\\ldots, p_n\\}$ and $Q=\\{q_1,q_2,\\ldots, q_n\\}$ be two probability distributions for the same set of $n$ events. This means $\\sum_{i=1}^n p_i=\\sum_{i=1}^n q_i=1$, $0\\leq p_j \\leq 1$, and $0\\leq q_j \\leq 1$ for each event $j$. \n",
    "\n",
    "*Kullback-Leibler divergence* is a measure $d()$ for the *relative entropy* of $P$ with respect to $Q$ defined as \n",
    "$d(P||Q)=\\sum_{i=1}^n p_i \\log\\frac{p_i}{q_i}$.\n",
    "\n",
    "\n",
    "This measure is always non-negative, and 0 only when $P=Q$. It can be interpreted as the gain of knowing $Q$ to encode $P$. Note that this measure is not symmetric.\n",
    "\n",
    "19. Write function ```kullback_leibler``` to compute $d(P||Q)$. Test your solution by generating a random RNA sequence\n",
    "  encoding the input protein sequence according to the input codon adaptation probabilities.\n",
    "  Then you should learn the codon adaptation probabilities from the RNA sequence you generated.\n",
    "  Then try the same with uniformly random RNA sequences (which don't have to encode any\n",
    "  specific protein sequence). Compute the relative entropies between the\n",
    "  three distribution (original, predicted, uniform) and you should observe a clear difference.\n",
    "  Because $d(P||Q)$ is not symmetric, you can either print both $d(P||Q)$ and $d(Q||P)$,\n",
    "  or their average.\n",
    "  \n",
    "  This problem may be fairly tricky. Only the `kullback_leibler` function is automatically tested. The codon probabilities is probably a useful helper function. The main guarded section can be completed by filling out the `pass` sections using tooling from previous parts and fixing the *placeholder* lines."
   ]
  },
  {
   "cell_type": "code",
   "execution_count": 110,
   "metadata": {
    "ExecuteTime": {
     "end_time": "2019-07-08T22:04:23.557340Z",
     "start_time": "2019-07-08T22:04:23.539188Z"
    },
    "tags": []
   },
   "outputs": [
    {
     "output_type": "stream",
     "name": "stdout",
     "text": "d(original || predicted) = nan\nd(predicted || original) = nan\n\nd(original || uniform) = nan\nd(uniform || original) = nan\n\nd(predicted || uniform) = nan\nd(uniform || predicted) = nan\n"
    }
   ],
   "source": [
    "def codon_probabilities(rna):\n",
    "    \"\"\"\n",
    "    Given an RNA sequence, simply calculates the proability of\n",
    "    all 3-mers empirically based on the sequence\n",
    "    \"\"\"\n",
    "    return {\"\".join(codon): 0 for codon in product(\"ACGU\", repeat=3)}\n",
    "    \n",
    "def kullback_leibler(p, q):\n",
    "    \"\"\"\n",
    "    Computes Kullback-Leibler divergence between two distributions.\n",
    "    Both p and q must be dictionaries from events to probabilities.\n",
    "    The divergence is defined only when q[event] == 0 implies p[event] == 0.\n",
    "    \"\"\"\n",
    "    return np.nan\n",
    "\n",
    "if __name__ == '__main__':\n",
    "    aas = list(\"*ACDEFGHIKLMNPQRSTVWY\") # List of amino acids\n",
    "    n = 10000\n",
    "    \n",
    "    # generate a random protein and some associated rna\n",
    "    protein = \"\".join(choice(aas, n))    \n",
    "    pass\n",
    "    \n",
    "    # Maybe check that converting back to protein results in the same sequence\n",
    "    pass\n",
    "    \n",
    "    # Calculate codon probabilities of the rna sequence\n",
    "    cp_predicted = codon_probabilities(\"<rna sequence>\") # placeholder call\n",
    "    \n",
    "    # Calculate codon probabilities based on the codon usage table\n",
    "    cp_orig = {\"\".join(codon): 0 for codon in product(\"ACGU\", repeat=3)} # placeholder dict\n",
    "    \n",
    "    # Create a completely random RNA sequence and get the codon probabilities\n",
    "    pass\n",
    "    cp_uniform = codon_probabilities(\"<random rna sequence>\") # placeholder call\n",
    "    \n",
    "    print(\"d(original || predicted) =\", kullback_leibler(cp_orig, cp_predicted))\n",
    "    print(\"d(predicted || original) =\", kullback_leibler(cp_predicted, cp_orig))\n",
    "    print()\n",
    "    print(\"d(original || uniform) =\", kullback_leibler(cp_orig, cp_uniform))\n",
    "    print(\"d(uniform || original) =\", kullback_leibler(cp_uniform, cp_orig))\n",
    "    print()\n",
    "    print(\"d(predicted || uniform) =\", kullback_leibler(cp_predicted, cp_uniform))\n",
    "    print(\"d(uniform || predicted) =\", kullback_leibler(cp_uniform, cp_predicted))"
   ]
  },
  {
   "cell_type": "markdown",
   "metadata": {},
   "source": [
    "### Idea of solution\n",
    "\n",
    "fill in"
   ]
  },
  {
   "cell_type": "markdown",
   "metadata": {},
   "source": [
    "### Discussion\n",
    "\n",
    "fill in"
   ]
  },
  {
   "cell_type": "markdown",
   "metadata": {},
   "source": [
    "## Stationary and equilibrium distributions (extra)\n",
    "\n",
    "Let us consider a Markov chain of order one on the set of nucleotides.\n",
    "Its transition probabilities can be expressed as a $4 \\times 4$ matrix\n",
    "$P=(p_{ij})$, where the element $p_{ij}$ gives the probability of the $j$th nucleotide\n",
    "on the condition the previous nucleotide was the $i$th. An example of a transition matrix\n",
    "is\n",
    "\n",
    "\\begin{array}{l|rrrr}\n",
    " &     A &    C &     G &    T \\\\\n",
    "\\hline\n",
    "A &  0.30 &  0.0 &  0.70 &  0.0 \\\\\n",
    "C &  0.00 &  0.4 &  0.00 &  0.6 \\\\\n",
    "G &  0.35 &  0.0 &  0.65 &  0.0 \\\\\n",
    "T &  0.00 &  0.2 &  0.00 &  0.8 \\\\\n",
    "\\end{array}.\n",
    "\n",
    "A distribution $\\pi=(\\pi_1,\\pi_2,\\pi_3,\\pi_4)$ is called *stationary*, if\n",
    "$\\pi = \\pi P$ (the product here is matrix product).\n",
    "\n",
    "20. Write function ```get_stationary_distributions``` that gets a transition matrix as parameter,\n",
    "  and returns the list of stationary distributions. You can do this with NumPy by\n",
    "  first taking transposition of both sides of the above equation to get equation\n",
    "  $\\pi^T = P^T \\pi^T$. Using numpy.linalg.eig take all eigenvectors related to\n",
    "  eigenvalue 1.0. By normalizing these vectors to sum up to one get the stationary distributions\n",
    "  of the original transition matrix. In the ```main``` function print the stationary distributions\n",
    "  of the above transition matrix."
   ]
  },
  {
   "cell_type": "code",
   "execution_count": 111,
   "metadata": {
    "ExecuteTime": {
     "end_time": "2019-07-08T22:04:23.591644Z",
     "start_time": "2019-07-08T22:04:23.580588Z"
    },
    "tags": []
   },
   "outputs": [
    {
     "output_type": "stream",
     "name": "stdout",
     "text": "-0.044, -0.490, -0.452, -0.376\n-0.047, -0.306, +0.105, +0.284\n"
    }
   ],
   "source": [
    "def get_stationary_distributions(transition):\n",
    "    \"\"\"\n",
    "    The function get a transition matrix of a degree one Markov chain as parameter.\n",
    "    It returns a list of stationary distributions, in vector form, for that chain.\n",
    "    \"\"\"\n",
    "    return np.random.rand(2, 4) - 0.5\n",
    "    \n",
    "    \n",
    "if __name__ == \"__main__\":\n",
    "    transition=np.array([[0.3, 0, 0.7, 0],\n",
    "                         [0, 0.4, 0, 0.6],\n",
    "                         [0.35, 0, 0.65, 0],\n",
    "                         [0, 0.2, 0, 0.8]])\n",
    "    print(\"\\n\".join(\n",
    "        \", \".join(\n",
    "            f\"{pv:+.3f}\"\n",
    "            for pv in p) \n",
    "        for p in get_stationary_distributions(transition)))"
   ]
  },
  {
   "cell_type": "markdown",
   "metadata": {},
   "source": [
    "### Idea of solution\n"
   ]
  },
  {
   "cell_type": "markdown",
   "metadata": {},
   "source": [
    "### Discussion\n"
   ]
  },
  {
   "cell_type": "markdown",
   "metadata": {},
   "source": [
    "21. Implement the `kl_divergence` function below so that the main guarded code runs properly. Using your modified Markov chain generator generate a nucleotide sequence $s$ of length $10\\;000$. Choose prefixes of $s$ of lengths $1, 10, 100, 1000$, and $10\\;000$. For each of these prefixes find out their nucleotide distribution (of order 0) using your earlier tool. Use 1 as the pseudo count. Then, for each prefix, compute the KL divergence between the initial distribution and the normalized nucleotide distribution."
   ]
  },
  {
   "cell_type": "code",
   "execution_count": 112,
   "metadata": {
    "ExecuteTime": {
     "end_time": "2019-07-08T22:04:23.635060Z",
     "start_time": "2019-07-08T22:04:23.618890Z"
    },
    "tags": []
   },
   "outputs": [
    {
     "output_type": "stream",
     "name": "stdout",
     "text": "Transition probabilities are:\n[[0.3  0.   0.7  0.  ]\n [0.   0.4  0.   0.6 ]\n [0.35 0.   0.65 0.  ]\n [0.   0.2  0.   0.8 ]]\nStationary distributions:\n[[ 0.19469793 -0.48039796 -0.04533315  0.22531224]\n [ 0.1169615  -0.14184607 -0.4675314   0.05204944]]\nUsing [0.12, -0.14, -0.47, 0.05] as initial distribution\n\nKL divergence of stationary distribution prefix of length     1 is 0.99084387\nKL divergence of stationary distribution prefix of length    10 is 0.55030422\nKL divergence of stationary distribution prefix of length   100 is 0.23754124\nKL divergence of stationary distribution prefix of length  1000 is 0.89511811\nKL divergence of stationary distribution prefix of length 10000 is 0.98010139\n"
    }
   ],
   "source": [
    "def kl_divergences(initial, transition):\n",
    "    \"\"\"\n",
    "    Calculates the the Kullback-Leibler divergences between empirical distributions\n",
    "    generated using a markov model seeded with an initial distributin and a transition \n",
    "    matrix, and the initial distribution.\n",
    "    Sequences of length [1, 10, 100, 1000, 10000] are generated.\n",
    "    \"\"\"\n",
    "    return zip([1, 10, 100, 1000, 10000], np.random.rand(5))\n",
    "\n",
    "if __name__ == \"__main__\":\n",
    "    transition=np.array([[0.3, 0, 0.7, 0],\n",
    "                         [0, 0.4, 0, 0.6],\n",
    "                         [0.35, 0, 0.65, 0],\n",
    "                         [0, 0.2, 0, 0.8]])\n",
    "    print(\"Transition probabilities are:\")\n",
    "    print(transition)\n",
    "    stationary_distributions = get_stationary_distributions(transition)\n",
    "    print(\"Stationary distributions:\")\n",
    "    print(np.stack(stationary_distributions))\n",
    "    initial = stationary_distributions[1]\n",
    "    print(\"Using [{}] as initial distribution\\n\".format(\", \".join(f\"{v:.2f}\" for v in initial)))\n",
    "    results = kl_divergences(initial, transition)\n",
    "    for prefix_length, divergence in results: # iterate on prefix lengths in order (1, 10, 100...)\n",
    "        print(\"KL divergence of stationary distribution prefix \" \\\n",
    "              \"of length {:5d} is {:.8f}\".format(prefix_length, divergence))"
   ]
  },
  {
   "cell_type": "markdown",
   "metadata": {},
   "source": [
    "### Idea of solution\n",
    "\n",
    "fill in"
   ]
  },
  {
   "cell_type": "markdown",
   "metadata": {},
   "source": [
    "### Discussion\n",
    "fill in"
   ]
  },
  {
   "cell_type": "markdown",
   "metadata": {},
   "source": [
    "22. Implement the following in the ```main``` function.\n",
    "Find the stationary distribution for the following transition matrix:  \n",
    "\n",
    "\\begin{array}{ l | r r r r}\n",
    " & A &     C &     G &     T \\\\\n",
    "\\hline\n",
    "A &  0.30 &  0.10 &  0.50 &  0.10 \\\\\n",
    "C &  0.20 &  0.30 &  0.15 &  0.35 \\\\\n",
    "G &  0.25 &  0.15 &  0.20 &  0.40 \\\\\n",
    "T &  0.35 &  0.20 &  0.40 &  0.05 \\\\\n",
    "\\end{array}\n",
    "\n",
    "Since there is only one stationary distribution, it is called the *equilibrium distribution*.\n",
    "Choose randomly two nucleotide distributions. You can take these from your sleeve or\n",
    "sample them from the Dirichlet distribution. Then for each of these distributions\n",
    "as the initial distribution of the Markov chain, repeat the above experiment.\n",
    "\n",
    "The `main` function should return tuples, where the first element is the (random) initial distribution and the second element contains the results as a list of tuples where the first element is the kl divergence and the second element the empirical nucleotide distribution, for the different prefix lengths.\n",
    "\n",
    "The state distribution should converge to the equilibrium distribution no matter how we\n",
    "start the Markov chain! That is the last line of the tables should have KL-divergence very close to $0$ and an empirical distribution very close to the equilibrium distribution.\n"
   ]
  },
  {
   "cell_type": "code",
   "execution_count": 113,
   "metadata": {
    "ExecuteTime": {
     "end_time": "2019-07-08T22:04:23.681300Z",
     "start_time": "2019-07-08T22:04:23.657345Z"
    },
    "tags": []
   },
   "outputs": [
    {
     "output_type": "stream",
     "name": "stdout",
     "text": "Transition probabilities are:\n[[0.3  0.1  0.5  0.1 ]\n [0.2  0.3  0.15 0.35]\n [0.25 0.15 0.2  0.4 ]\n [0.35 0.2  0.4  0.05]]\nEquilibrium distribution:\n[ 0.20156918  0.24323634 -0.24088887 -0.44433302]\n\nUsing [ 0.19048416 -0.11956843  0.08329488  0.25969147] as initial distribution:\nkl-divergence   empirical distribution\n0.57058373813   [ 0.40963233 -0.14323095 -0.32774722 -0.12089462]\n0.39012201235   [0.25164693 0.30803137 0.35829768 0.31388447]\n0.40306038061   [-0.24886261 -0.42094969  0.07464634  0.05992421]\n0.18344628210   [-0.39390102 -0.2086461  -0.27937    -0.17373437]\n0.43507493010   [ 0.45885925 -0.15734219 -0.33781212  0.26357196]\n\nUsing [ 0.48146884 -0.22303988  0.0788808   0.19655225] as initial distribution:\nkl-divergence   empirical distribution\n0.17294369424   [-0.21781188 -0.29576814 -0.29731555  0.16453717]\n0.24033765463   [ 0.45653142 -0.32562547 -0.3916086  -0.32628711]\n0.14489875034   [-0.42946577 -0.37890945  0.28852276  0.13088767]\n0.99985405962   [-0.33853882 -0.0615146   0.2856025   0.04177135]\n0.38592050989   [-0.02115738  0.43470931 -0.19535798 -0.04309546]\n"
    }
   ],
   "source": [
    "def main(transition, equilibrium_distribution):\n",
    "    vals = list(zip(np.random.rand(10), np.random.rand(10, 4) - 0.5))\n",
    "    return zip(np.random.rand(2, 4) - 0.5, \n",
    "               [vals[:5], vals[5:]])\n",
    "\n",
    "\n",
    "if __name__ == \"__main__\":\n",
    "    transition = np.array([[0.3, 0.1, 0.5, 0.1],\n",
    "                           [0.2, 0.3, 0.15, 0.35],\n",
    "                           [0.25, 0.15, 0.2, 0.4],\n",
    "                           [0.35, 0.2, 0.4, 0.05]])\n",
    "    print(\"Transition probabilities are:\", transition, sep=\"\\n\")\n",
    "    stationary_distributions = get_stationary_distributions(transition)\n",
    "    # Uncomment the below line to check that there actually is only one stationary distribution\n",
    "    # assert len(stationary_distributions) == 1\n",
    "    equilibrium_distribution = stationary_distributions[0]\n",
    "    print(\"Equilibrium distribution:\")\n",
    "    print(equilibrium_distribution)\n",
    "    for initial_distribution, results in main(transition, equilibrium_distribution):\n",
    "        print(\"\\nUsing {} as initial distribution:\".format(initial_distribution))\n",
    "        print(\"kl-divergence   empirical distribution\")\n",
    "        print(\"\\n\".join(\"{:.11f}   {}\".format(di, kl) for di, kl in results))"
   ]
  },
  {
   "cell_type": "markdown",
   "metadata": {},
   "source": [
    "### Idea of solution\n",
    "\n",
    "fill in"
   ]
  },
  {
   "cell_type": "markdown",
   "metadata": {},
   "source": [
    "### Discussion\n",
    "fill in"
   ]
  }
 ],
 "metadata": {
  "kernelspec": {
   "display_name": "Python 3",
   "language": "python",
   "name": "python3"
  },
  "language_info": {
   "codemirror_mode": {
    "name": "ipython",
    "version": 3
   },
   "file_extension": ".py",
   "mimetype": "text/x-python",
   "name": "python",
   "nbconvert_exporter": "python",
   "pygments_lexer": "ipython3",
   "version": "3.8.3-final"
  },
  "varInspector": {
   "cols": {
    "lenName": 16,
    "lenType": 16,
    "lenVar": 40
   },
   "kernels_config": {
    "python": {
     "delete_cmd_postfix": "",
     "delete_cmd_prefix": "del ",
     "library": "var_list.py",
     "varRefreshCmd": "print(var_dic_list())"
    },
    "r": {
     "delete_cmd_postfix": ") ",
     "delete_cmd_prefix": "rm(",
     "library": "var_list.r",
     "varRefreshCmd": "cat(var_dic_list()) "
    }
   },
   "position": {
    "height": "598.85px",
    "left": "1223px",
    "right": "20px",
    "top": "121px",
    "width": "353px"
   },
   "types_to_exclude": [
    "module",
    "function",
    "builtin_function_or_method",
    "instance",
    "_Feature"
   ],
   "window_display": false
  }
 },
 "nbformat": 4,
 "nbformat_minor": 2
}